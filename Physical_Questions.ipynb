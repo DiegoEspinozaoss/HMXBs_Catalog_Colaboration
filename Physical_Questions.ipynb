{
 "cells": [
  {
   "cell_type": "markdown",
   "id": "86811585",
   "metadata": {},
   "source": [
    "When do you started being an astronomer? Did you always have interest in the pulsars like bynary systems?\n",
    "\n",
    "In the first place, why do you decided to use those 4 catalogs and no other? it have any relation with the completeness of any of them (i.e. the quantity of systems or the amount of parameters for them)?\n",
    "\n",
    "In the case of the distances from GAIA DR3 do i have to query with the GAIA DR3 ID from neumann catalog?\n",
    "\n",
    "In the case I use the BAT fluxes from actualized Neumann Catalog, do i take the BAT_min_flux or the BAT_max_flux? \n",
    "\n",
    "In the case I use the Swift Fluxes, Do I have to make a query to match all the objects in the Neumann+Fortin Catalog, right?\n",
    "\n",
    "How do we usually select the priors for the observables in the prediction of the models (i.e. parameters) in the bayesian Tool?\n",
    "\n",
    "Have you used the BONNSAI tool? For which cases? How do you use the BONNSAI tool for multiple systems simultaneously?\n",
    "\n",
    "Which of the three kinds of masses I'm supposed to obtain from the catalogs (as the observables from Fortin+Neumann catalog), since i don't know the uncertainties of the effective temperature neither the uncertainties from the surface gravity (neither the mean of this), neither luminosities? \n",
    "\n",
    "Or do I have to obtain the luminosities from the Flux and then use them to predict the mass with BONNSAI?\n",
    "\n",
    "When we talk about the luminosity of the HMXBs, we are talking about the luminosity of both objects like one object? Or we are talking about the Companion of the Neutron star alone?\n",
    "\n",
    "Why in the Fig 5 Of Fortin the quantity of detected or identified spectral type increases? e.g. Be and sg.?\n",
    "\n",
    "I was thinking, it's the imputing of the median an inadequate form of using the data for the kendall correlation matrix and the Dendograms because of the definition of the median when there are a even amount of data for a determined parameter as the effective temperature. Right?\n",
    "\n",
    "It's possible to use the Bootstrap technique in some cases to determine the kendall Tau's coefficient with it's uncertainties? (e.g. with replacement)\n",
    "\n",
    "How can i take into account the absortion in the line of sight?\n",
    "\n",
    "There have to be a maximum distance because its contrary the flux have a minimum? When we say that a pulsar have a minimum flux, we are talking about a specific band in the Swift sensitivity?\n",
    "\n",
    "\n",
    "\n",
    "\n",
    "\n",
    "\n",
    "\n",
    "Monday 16-12-2024\n",
    "\n",
    "1) What's the definition of near-infrared?\n",
    "2) \"Accretion through a Be disk is much more efficient at transporting angular momentum than via wind. The spin of the compact object spin is therefore correlated to the orbital period in BeHMXBs, but not in sgHMXBs\" Dicho de otra manera, aquí se establece un silogismo. "
   ]
  },
  {
   "cell_type": "markdown",
   "id": "b5fc6b9a",
   "metadata": {},
   "source": [
    "# Questions (December 30, 2024):\n",
    "\n",
    "- It's fine that the regime of the luminosities is for 14-195 keV?\n",
    "- It's fine to take the aritmetic mean of the min and max flux from bat in neumann catalog?\n",
    "- It's always the same to talk about the regime/energy band in the context of the X-ray energy emission? \n",
    "- Why the near infrarred it's named like that?\n",
    "- Do make any sense if i want to take a Color-Magnitude diagram from the Neumann Catalog aparent magnitudes?\n",
    "- Why the near infrarred/X-ray/optical bands are called the counterparts?\n",
    "- How valid is it to extrapolate the terminal velocity and the mass loss rate?\n",
    "- For example, is it perhaps more valid than interpolating some known value from the parameters of the HMXBs themselves, such as the mass of the compact object?\n",
    "- Are we more interested in the Mass of the compact object or in the mass of the companion?\n",
    "- Does the terminal velocity refer to the terminal velocity of the pulsar traveling through the medium, or is it more related to the terminal velocity of the stellar wind from the companion star?\n",
    "- Which are the esential conditions to determine wether a compact object is a black hole?\n",
    "- Why were the number of Be in relation to Sg companions biased in the context of the Catalogs?\n",
    "- What we understand when we talk about the poblational studies?\n",
    "- In a catalog of these kind, are we any time interested in some kind of time series (as in the spin up-down of the systems) or in the graphics of flux versus wavelenght?\n",
    "- It's normal that the terminal velocity correlates the most with the mass loss rate in the super giant than in the Be stars like systems?\n",
    "- What is MJ2000? It's like the currently calendar of astronomers? Why?\n",
    "- What's the difference between the transient and Persistent HMXBs? Does it have relation with the persistent/transient accretion systems? So for example, in the Neumann and Fortin Catalogs are they transient and/or persistent HMXBs?\n",
    "- Can i extrapolate also the espectroscopic mass, radius *, log luminosity (log L) and T* from the six prototypical HMXBs?\n",
    "- Did we use the geometric mean between the max/min fluxes because they can be like 10 to the 10 power, and 10 to the 20?"
   ]
  },
  {
   "cell_type": "markdown",
   "id": "33178896",
   "metadata": {},
   "source": [
    "# Questions (January 12, 2025)\n",
    "\n",
    "1. The reason that the 10 to the 50 power isn't possible for the luminosity is because of the eddington limit? (which consist in the luminosity of a star when its gas pressure overpower the force of gravity?) Do the stars consequently, have a maximum effective temperature?\n",
    "\n",
    "2. The Wolf-Rayet binary systems are O or B stars (in respect to the companion)\n",
    "\n",
    "3. The reason for the difference in the correlation coefficients (spin period-orbital period) in the correlation matrix and Corbet diagram could be due to the fact that the corbet diagram is for all Fortin systems, while in the correlation matrix only the systems that are present in Neumann and Fortin (?) In other words, the coefficient is different because we are taking a subset of systems. Maybe i've introduced some bias in the analysis. \n",
    "\n",
    "4. When extrapolating the Spectral type should i take into account the fact that it has spectral class, subclass, luminosity class and aditional characteristics? For example, O8.5Ib-II(f)p where O is the spectral class, 8.5 is the subclass, Ib-II is the luminosity class and f & p are the aditional characteristics. So i have to consider this fact to make the extrapolation in first place. \n",
    "\n",
    "5. Its normal that for example some systems have 0.6 * 10**-12 and others 6.123.123.123.123.123 ergs/s/cm**2 in the XRT_min_flux and XRT_max_flux? That's probably the the reason of why i couln't reproduce Fortin Figure. "
   ]
  },
  {
   "cell_type": "markdown",
   "id": "5c1470ee",
   "metadata": {},
   "source": [
    "# Questions Wednesday (January 22th 2025)\n",
    "\n",
    "1. The conversion between W/m^{2} and erg/s/cm^{2} is W/m^{2} = 10^{3} erg/s/cm^{2} "
   ]
  }
 ],
 "metadata": {
  "kernelspec": {
   "display_name": "Python 3 (ipykernel)",
   "language": "python",
   "name": "python3"
  },
  "language_info": {
   "codemirror_mode": {
    "name": "ipython",
    "version": 3
   },
   "file_extension": ".py",
   "mimetype": "text/x-python",
   "name": "python",
   "nbconvert_exporter": "python",
   "pygments_lexer": "ipython3",
   "version": "3.8.16"
  }
 },
 "nbformat": 4,
 "nbformat_minor": 5
}
