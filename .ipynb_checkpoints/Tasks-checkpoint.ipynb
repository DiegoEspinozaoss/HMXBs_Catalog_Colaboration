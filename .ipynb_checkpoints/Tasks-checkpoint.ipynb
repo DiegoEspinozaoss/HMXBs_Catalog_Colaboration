{
 "cells": [
  {
   "cell_type": "markdown",
   "id": "36e0b6fb",
   "metadata": {},
   "source": [
    "# Task 0 (non-interactive_part_proyect):\n",
    "\n",
    "Make the following graphics:\n",
    "- venn's diagram for all catalogs\n",
    "- right ascension vs declination for neumann catalog (4 catalogs/vs no)\n",
    "- right ascension vs declination for neumann catalog (1,2,3 and 4 catalogs)\n",
    "- Longitud vs Galactic latitud for  neumann catalog\n",
    "- ilustration of the galactic coordinates\n",
    "- Hammer's Proyection of the HMXBs for Neumann catalog\n",
    "- explicit & algebraic relation between distance/galactic coordinates.\n",
    "- galactic distribution for Neumann Catalog\n",
    "- Corbet's diagram \n",
    "- coordinates conversion\n",
    "- galactic coordinates for Kim catalog\n",
    "- equatorial coordinates for Kim catalog\n"
   ]
  },
  {
   "cell_type": "markdown",
   "id": "6b4c8d3c",
   "metadata": {},
   "source": [
    "## Task1 (done)\n",
    "\n",
    "Check the content of the .corr method for panda arrays, and the detail of the computation performed when you use method=‘kendall'\n"
   ]
  },
  {
   "cell_type": "markdown",
   "id": "5be7d7d6",
   "metadata": {},
   "source": [
    "The .corr function in python compute pairwise correlation of columns, excluding NA/null values [as it's in this page](https://pandas.pydata.org/docs/reference/api/pandas.DataFrame.corr.html). Also, the method parameter can compute the pearson, kendall or the spearman correlation coefficients. In our case, we wanna use the kendall tau because it take into account the non-linear correlations betweeen two variables. For example, as in Fortin et al 2022, the Porb and the Pspin have the next relation:\n",
    "\n",
    "$$P_{\\text{spin}} \\propto P_{\\text{orb}}^2$$\n",
    "which can't be explained using a linear coefficient as Pearson/Spearman correlation coefficients."
   ]
  },
  {
   "cell_type": "markdown",
   "id": "6eee55ba",
   "metadata": {},
   "source": [
    "## Task2 (done)\n",
    "\n",
    "Remove Ppulse (or spin_period) and Porb (or Period). As i explained before, the pulse period (also called spin period) of a neutron star is strongly correlated with the Orbital Period, so the removal of one of them is loggical. "
   ]
  },
  {
   "cell_type": "markdown",
   "id": "fa914444",
   "metadata": {},
   "source": [
    "## Task3:\n",
    "\n",
    "**Figure out why there are disagreements between Porb and Period (from 2 different catalogs, right?).** First of all, we have to define what Ppulse and Porb are in the papers. Ppulse comes from Neumann Catalog, while Spin_period comes from Fortin Catalog. \n",
    "\n",
    "In Neumann Catalog, Ppulse is: \"Pulsation Period (spin) of the binary (with NS) in seconds if determined\". \n",
    "\n",
    "Authors made the Fortin Catalog from a mix between existing and new data about HXMB's. For example, in Fortin W63 X-1 have a Spin_period of 36 seconds, while in Neuman it has a 36 seconds ppulse. Both Catalogs come from a mix between other catalogs, so it's difficult to answer. I noticed that the differences became from numbers like 36.0 and 36.01 (the difference is minimal!)."
   ]
  },
  {
   "cell_type": "markdown",
   "id": "1c46ca47",
   "metadata": {},
   "source": [
    "## Task5 (non_interactive_part_proyect)\n",
    "\n",
    "Look for a way to plot 2 dendrograms for >0 and <0 correlations. Done."
   ]
  },
  {
   "cell_type": "markdown",
   "id": "6421920f",
   "metadata": {},
   "source": [
    "## Task6 (non_interactive_part_proyect):\n",
    "\n",
    "Plot histogram of soft_flux ((geometric?) average between min and max) and compare to Fortin fig.4. I made it without an outlier."
   ]
  },
  {
   "cell_type": "markdown",
   "id": "ef65f5ec",
   "metadata": {},
   "source": [
    "## Task7 (non_interactive_part_proyect)\n",
    "\n",
    "\n",
    "Recompute Kendall and dendrogram with mean_soft_flux, mean_hard_flux and hardness (which is the ratio between mean_hard_flux and mean_soft_flux). To understand the meaning of hardness, check Fig.2 from https://arxiv.org/pdf/2410.21456 and Fig.10 from https://www.aanda.org/articles/aa/pdf/2023/06/aa45708-22.pdf."
   ]
  },
  {
   "cell_type": "markdown",
   "id": "fe7fedfe",
   "metadata": {},
   "source": [
    "## Task8 (in progress):\n",
    "\n",
    "Deduce stellar properties from spectral type (in particular the mass and, if possible, radius, luminosity and temperature). FYI, the standard procedure to deduce the mass of a star from 3 different methods is (here, just focus on getting the spectral-type - mass):\n",
    "1. Spectral-type - mass: it is obtained by computing the mean and standard deviation of the evolutionary masses of apparently-single stars with similar spectral types. The masses of these stars can be computed for instance from their measured physical properties (e.g., luminosity, effective temperature, surface gravity) as input in the [BONNSAI Bayesian tool](https://www.astro.uni-bonn.de/stars/bonnsai/) ([Shneider+14](https://ui.adsabs.harvard.edu/abs/2014A&A...570A..66S/abstract)), which estimates the evolutionary mass using single-star evolution tracks (see [Schneider+18](https://ui.adsabs.harvard.edu/abs/2018A&A...618A..73S/abstract) for an example). \n",
    "2. Evolutionary mass: it is obtained by inputting the values of stellar luminosity and effective temperature in the BONNSAI tool.\n",
    "3. Spectroscopic mass: it is obtained from the surface gravity (deduced from the width of the absorption lines in the spectrum) and stellar radius derived from spectroscopy. The stellar parameters and abundances are derived from a spectroscopic analysis (e.g. with the CMFGEN model atmosphere code, see section “spectral analysis” in supplementary information [Shenar+22](https://ui.adsabs.harvard.edu/abs/2022NatAs...6.1085S/abstract) for more details)."
   ]
  },
  {
   "cell_type": "markdown",
   "id": "51cd9698",
   "metadata": {},
   "source": [
    "Links to papers and catalogs\n",
    "\n",
    "[Neumann+23\n",
    "HMXB_cat](http://astro.uni-tuebingen.de/~xrbcat/HMXBcat.html)\n",
    "\n",
    "\n",
    "\n",
    "[Fortin+23\n",
    "v2023-09](https://ui.adsabs.harvard.edu/abs/2023A&A...671A.149F/abstract)\n",
    "\n",
    "\n",
    "\n",
    "[Kim+23\n",
    "kim_*](https://ui.adsabs.harvard.edu/abs/2023ApJS..268...21K/abstract) (bottom of tables 2 and 3 in appendix)\n",
    "\n",
    "\n",
    "\n",
    "[Malacaria+20\n",
    "malacaria](https://ui.adsabs.harvard.edu/search/q=author%3A%22%5Emalacaria%2Cc%22&sort=date%20desc%2C%20bibcode%20desc&p_=0) (bottom of table 1)"
   ]
  },
  {
   "cell_type": "markdown",
   "id": "79961454",
   "metadata": {},
   "source": [
    "## Task 9 (interactive_part_proyect)\n",
    "\n",
    "1. The correlation between NS spin and orbital period doesn't appear in your Kendall matrix, while it does in the Corbet diagram but only for systems with a Be start. Could you set up a switch such as you can perform the same steps (Kendall+dendrogram) either for all stars (as you already did) or separately for Be stars on one hand, and for other types of stars on the other hand? "
   ]
  },
  {
   "cell_type": "markdown",
   "id": "fe03715a",
   "metadata": {},
   "source": [
    "## Task 10 (in progress)\n",
    "\n",
    "2. A more involving idea. In the database you're using, an important information is missing : the stellar wind properties (mass loss rate and terminal wind speed). It's especially important when the donor star is a blue supergiant (i.e. not a Be star). The main reason it's missing is that we don't have *that* many systems where it's measured accurately. Yet, in this paper (https://ui.adsabs.harvard.edu/abs/2020A%26A...634A..49H/abstract), you'll find data for 6 systems which should be in the catalogs you're using. Could you check it? I know that it's very few objects, but we could extrapolate the values to other types of similar spectral type. Could you quickly check whether these 2 new parameters correlate with the others? "
   ]
  },
  {
   "cell_type": "markdown",
   "id": "a6282c56",
   "metadata": {},
   "source": [
    "## Task 11 (interactive_part_proyect)\n",
    "\n",
    "3. Linked to the previous point: it'd be useful in your jupyter notebook if you had an interface where we can easily select two parameters to be plotted for all the systems, to verify whether the Kendall coefficients make sense. Possibly, you could plot two more parameters (e.g. as dots of different size and color)."
   ]
  },
  {
   "cell_type": "markdown",
   "id": "e057103e",
   "metadata": {},
   "source": [
    "## Task 12 (interactive_part_proyect)\n",
    "\n",
    "Could you also plot a [Venn diagram](https://en.wikipedia.org/wiki/Venn_diagram) of the systems, with each block representing a parameter (e.g. the ~6 ones I sent last time and that you use for the Kendall tau matrix)? Something along [these lines](https://upload.wikimedia.org/wikipedia/commons/5/56/6-set_Venn_diagram_SMIL.svg) for instance? It would serve to know which is the fraction of systems where all the parameters are known.\n",
    "\n"
   ]
  },
  {
   "cell_type": "markdown",
   "id": "eb62468f",
   "metadata": {},
   "source": [
    "## Task 13 (interactive_part_proyect):\n",
    "\n",
    "Venn diagram from Fortin and Neumann’s catalogs => 17 systems w/ known:\n",
    "· spectral type\n",
    "· stellar mass \t\n",
    "· orbital period\n",
    "· eccentricity\n",
    "· spin period\n",
    "· distance\n",
    "\n",
    "+ 6 where only the stellar mass is missing (but could be deduced from spectral type)\n",
    "+ 8 where only the eccentricity is missing\n",
    "+ 5 where only the spin period is missing (potential black holes!)\n",
    "\n",
    "task: check by hand the 17 and the 8 to make sure that it works fine\n",
    "\n",
    "## Past task:\n",
    "\n",
    "keywords to look for on Google are “catalog” “Be stars” “spectral type” “mass” “relation\""
   ]
  },
  {
   "cell_type": "markdown",
   "id": "9392bb75",
   "metadata": {},
   "source": [
    "## Task 14 (non_interactive_part_proyect): \n",
    "\n",
    "feature to get the list of systems which have (i) all parameters (17 systems), (ii) eccentricity missing, (iii) eccentricity and orbital period missing, … ask input to user (which missing parameters do you want) and give the list with names and parameters.\n",
    "\n",
    "repeat w/ log scale to reproduce Fortin’s fig.4 and check units. Work w/ updated Neumann’s catalog (from http://astro.uni-tuebingen.de/~xrbcat/HMXBcat.html) and read 2.2 of their paper to see which instrument corresponds to which energy range. For instance, to reproduce Fortin’s fig.4, use Swift/BAT. To convert fluxes to luminosity, account for distance estimates. Check method in last paragraph of Fortin’s section 3 to combine Swift/BAT fluxes w/ Gaia distances to get luminosity. To convert a flux F you measure from Earth of a body at distance D to an intrinsic luminosity L:\n",
    "\n",
    "L=F*(4\\pi D^2)\n",
    "\n",
    "Rk: technically, you should also account for absorption along LOS by the ISM.\n",
    "\n",
    "\n",
    "Exo: given F_min=1E-13 erg/s/cm2 detectable (w/ Swift’s sensitivity according to https://heasarc.gsfc.nasa.gov/W3Browse/swift/swbat105m.html), what’s the maximum distance at which I can detect a source as a function of its luminosity?\n",
    "\n",
    "Fortin Quote:\n",
    "\n",
    "\"First, we use\n",
    "the distances in Table A.1, which were queried in Bailer-Jones\n",
    "et al. (2021) using the Gaia DR3 positions. Then, we query the\n",
    "Swift 2SXPS catalogue using their available Swift identifiers, and\n",
    "fetch the value of the unabsorbed flux in the 0.3–10 keV band\n",
    "(column apec_flux_b)\" While in the [web site](https://www.swift.ac.uk/2SXPS/) is the Swift Catalog from [Evans et al 2020]( https://ui.adsabs.harvard.edu/abs/2020ApJS..247...54E/abstract)."
   ]
  },
  {
   "cell_type": "markdown",
   "id": "5ba9188d",
   "metadata": {},
   "source": [
    "## Task 14 (interactive_part_proyect): \n",
    "\n",
    "feature to get the list of systems which have (i) all parameters (17 systems), (ii) eccentricity missing, (iii) eccentricity and orbital period missing, … ask input to user (which missing parameters do you want) and give the list with names and parameters.\n",
    "\n",
    "## Task 15:\n",
    "\n",
    "repeat w/ log scale to reproduce Fortin’s fig.4 and check units. Work w/ updated Neumann’s catalog (from http://astro.uni-tuebingen.de/~xrbcat/HMXBcat.html) and read 2.2 of their paper to see which instrument corresponds to which energy range. For instance, to reproduce Fortin’s fig.4, use Swift/BAT. To convert fluxes to luminosity, account for distance estimates. Check method in last paragraph of Fortin’s section 3 to combine Swift/BAT fluxes w/ Gaia distances to get luminosity. To convert a flux F you measure from Earth of a body at distance D to an intrinsic luminosity L:\n",
    "\n",
    "L=F*(4\\pi D^2)\n",
    "\n",
    "Rk: technically, you should also account for absorption along LOS by the ISM.\n",
    "\n",
    "Exo: given F_min=1E-13 erg/s/cm2 detectable (w/ Swift’s sensitivity according to https://heasarc.gsfc.nasa.gov/W3Browse/swift/swbat105m.html), what’s the maximum distance at which I can detect a source as a function of its luminosity?\n",
    "\n",
    "Fortin Quote:\n",
    "\n",
    "\"First, we use\n",
    "the distances in Table A.1, which were queried in Bailer-Jones\n",
    "et al. (2021) using the Gaia DR3 positions. Then, we query the\n",
    "Swift 2SXPS catalogue using their available Swift identifiers, and\n",
    "fetch the value of the unabsorbed flux in the 0.3–10 keV band\n",
    "(column apec_flux_b)\" While in the [web site](https://www.swift.ac.uk/2SXPS/) is the Swift Catalog from [Evans et al 2020]( https://ui.adsabs.harvard.edu/abs/2020ApJS..247...54E/abstract). Besides this, [Gaia DR3](https://www2.mpia-hd.mpg.de/~calj/gedr3_distances.html) is in [Bailer-Jones et al 2021](https://arxiv.org/pdf/2012.05220), which sent me to [this.](https://vizier.cds.unistra.fr/viz-bin/VizieR-3)"
   ]
  },
  {
   "cell_type": "markdown",
   "id": "d1bb8273",
   "metadata": {},
   "source": [
    "## Old task (interactive_part_proyect): \n",
    "\n",
    "interactive Kendall and dendrogram with switch to choose to work with Be only, Sg only or both (see https://ipywidgets.readthedocs.io/en/8.1.5/examples/Using%20Interact.html)\n",
    "\n",
    "## New task (interactive_part_proyect): \n",
    "\n",
    "give the possibility to choose 2 different parameters (among the 6) and compute the correlation coefficient from all the systems where at least these 2 parameters are known. "
   ]
  },
  {
   "cell_type": "markdown",
   "id": "dc193b57",
   "metadata": {},
   "source": [
    "# Por hacer (todo en interactive_part_proyect). \n",
    "\n",
    "Básicamente lo que tengo que hacer es obtener lo siguiente, para ser más eficiente:\n",
    "- usar el catalogo Neumann actualizado, se llama HMXB_cat.xlsx, hacer un grafico de la luminosidad, utilizando swift/bat flujos con las distancias de gaia, que estan en fortin y neumann. \n",
    "\n",
    "- Deduce stellar properties from spectral type (in particular the mass and, if possible, radius, luminosity and temperature). FYI, the standard procedure to deduce the mass of a star from 3 different methods is (here, just focus on getting the spectral-type - mass): Spectral-type - mass: it is obtained by computing the mean and standard deviation of the evolutionary masses of apparently-single stars with similar spectral types. The masses of these stars can be computed for instance from their measured physical properties (e.g., luminosity, effective temperature, surface gravity) as input in the BONNSAI Bayesian tool (Shneider+14), which estimates the evolutionary mass using single-star evolution tracks (see Schneider+18 for an example).\n",
    "\n",
    "- A more involving idea. In the database you're using, an important information is missing : the stellar wind properties (mass loss rate and terminal wind speed). It's especially important when the donor star is a blue supergiant (i.e. not a Be star). The main reason it's missing is that we don't have that many systems where it's measured accurately. Yet, in this paper (https://ui.adsabs.harvard.edu/abs/2020A%26A...634A..49H/abstract), you'll find data for 6 systems which should be in the catalogs you're using. Could you check it? I know that it's very few objects, but we could extrapolate the values to other types of similar spectral type. Could you quickly check whether these 2 new parameters correlate with the others?\n"
   ]
  },
  {
   "cell_type": "markdown",
   "id": "cb61c2a4",
   "metadata": {},
   "source": [
    "# Por pensar \n",
    "\n",
    "- averiguar si es posible usar bootstrap/MCMC para conseguir incertidumbres de los parametros y así usarlos en bonsai. "
   ]
  },
  {
   "cell_type": "markdown",
   "id": "36f3a495",
   "metadata": {},
   "source": [
    "# Task 16\n",
    "\n",
    "Interactive graphics\n",
    "\n",
    "**Enable the possibility to have no 3rd dimension (i.e. “tamaño=None”) DONE**\n",
    "\n",
    "**Some variables should in log scale: Orbital period and Spin period DONE**\n",
    "\n",
    "**Mind the units for orbital and spin periods, and for distance DONE** \n",
    "\n",
    "Orbital period in days, spin periods in seconds, distance in parsecs\n",
    "\n",
    "**Mo —> M\\*  Mean_mass —> M_X DONE**\n",
    "\n",
    "**if possible, enforce all spectral types labels to be displayed on the Y-axis (esto es problemático porque en principio debería hacer lo mismo con los nombres, pero al ser tantos no es posible ni para los nombres ni para los tipos espectrales) DONE**\n",
    "\n",
    "**put all spectral type O together, and B together DONE**\n",
    "\n",
    "**hover information: name of the system should always be displayed DONE**\n",
    "\n",
    "**SpType and SpecType should be replaced by \"SpType (Fortin)” and “SpType (Kim)” for instance DONE**\n",
    "\n",
    "Check Kendall tau coefficients by selecting Mo, Teff, spin period, period and eccentricity. Plot the Corbet diagram of the 15 systems which have these 5 parameters known. Compute directly the correlation coefficient and compare it to the one you got in the Kendall matrix.\n",
    "\n",
    "**Incoherence between the Venn diagram and the table just above, which say that there are 15 and 7 objects respectively for which all 5 parameters are known. DONE**\n",
    "\n",
    "Check that the distance metric does find that the systems listed in “alias name” are rightfully matched \n",
    "\n",
    "**Replace latin numbers with arabic numbers in spectral type names for measuring the distance (otherwise, III and V have different number of characters) DONE**\n",
    "\n",
    "Do the extrapolation of Mdot and vinfinity @ the very beginning to be able to plot it with other variables afterwhile\n",
    "\n",
    "Non-interactive graphics\n",
    "\n",
    "Don’t confuse Swift/XRT and Swift/BAT. You need to use Swift/XRT (0.3-10keV) in Neumann catalog to reproduce Fortin’s figure\n",
    "\n",
    "A luminosity of 1E50erg/s is impossible => correct the points on the right of the luminosity VS distance plot"
   ]
  },
  {
   "cell_type": "markdown",
   "id": "64a51593",
   "metadata": {},
   "source": [
    "# Task 17\n",
    "\n",
    "**Task: harmonize Fortin and Neumann catalogs by making sure that systems with different names are included in both (e.g. Vela X-1). To do so, use names and/or coordinates.**\n",
    "\n",
    "DONE First of all, in the Neumann catalog, the colummns which contain names/id's are called by: \"Name\", \"Alt_Name\", \"Gaia_DR3_ID\", \"IDS\", \"_2MASS_ID\", \"catWISE_ID\", \"ROSAT_ID\", \"XMM_ID\", \"CHANDRA_ID\", \"XRT_ID\", \"BAT_ID\", \"INTEGRAL_ID\", while in the Fortin Catalogue the columns are: \"Main_ID\", \"best_ID\", \"AGILE_ID\", \"HEAO_ID\", \"UHURU_ID\", \"ARIEL3_ID\", \"IGR_ID\", \"2E_ID\", \"ROSAT_ID\", \"ROSATF_ID\", \"FERMI_ID\", \"SAX_ID\", \"Swift_ID\", \"XMM_ID\", \"CHANDRA_ID\", \"2MASS_ID\" and \"Gaia_ID\". So, we could take all columns which name contain \"ID\" in its string and search for all the systems that are in both catalogs. Also, we have to take all the systems whose coordinates (equatorial ones) are the same, to be more rigorous. A little problem here: i can't get all the systems whose names are defined either by the id or by the equatorial coordinates. I got 148 systems (123 from the coordinates and 128 from the coordinates) which is the union of all the systems. Part of this task is to obtain all the unique systems by their names. \n",
    "\n",
    "Currently, what was happening was that the cat_neuman_comunes df only had 99 objects because the Name column in Neumann Catalog hasn't all the names which the Fortin column Main_ID has. Something we can do is to take the names present in a column common to both catalog: for example, the XMM_ID, Chandra_ID or ROSAT_ID. I'm going to select the XMM_ID. For the moment, it seems that i've been doing a wrong selection of the systems. \n",
    "\n",
    "Now i've corrected this (saturday 18th)\n",
    "\n",
    "Task: correct XRT_flux\n",
    "\n",
    "Task: subdive spectral type matching in 3 parts (spectral type, subtype and luminosity class)."
   ]
  }
 ],
 "metadata": {
  "kernelspec": {
   "display_name": "Python 3 (ipykernel)",
   "language": "python",
   "name": "python3"
  },
  "language_info": {
   "codemirror_mode": {
    "name": "ipython",
    "version": 3
   },
   "file_extension": ".py",
   "mimetype": "text/x-python",
   "name": "python",
   "nbconvert_exporter": "python",
   "pygments_lexer": "ipython3",
   "version": "3.8.16"
  }
 },
 "nbformat": 4,
 "nbformat_minor": 5
}
