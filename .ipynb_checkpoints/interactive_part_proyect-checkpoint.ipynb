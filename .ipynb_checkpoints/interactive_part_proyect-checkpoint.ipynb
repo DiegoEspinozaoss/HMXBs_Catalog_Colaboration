{
 "cells": [
  {
   "cell_type": "code",
   "execution_count": 2,
   "id": "5fafec41",
   "metadata": {},
   "outputs": [],
   "source": [
    "import warnings\n",
    "warnings.simplefilter(\"ignore\", category=UserWarning)\n",
    "%run Data_and_catalogs_proyect.ipynb"
   ]
  },
  {
   "cell_type": "markdown",
   "id": "2560efb0",
   "metadata": {},
   "source": [
    "# Here i show the graphic with three parameters"
   ]
  },
  {
   "cell_type": "code",
   "execution_count": 3,
   "id": "6ef65b04",
   "metadata": {},
   "outputs": [
    {
     "data": {
      "application/vnd.jupyter.widget-view+json": {
       "model_id": "77e6f2479b1147f0855177e919197d7a",
       "version_major": 2,
       "version_minor": 0
      },
      "text/plain": [
       "interactive(children=(Dropdown(description='Eje X:', options=('Nombre', 'Spectype', 'Mo', 'Period', 'Eccentric…"
      ]
     },
     "metadata": {},
     "output_type": "display_data"
    },
    {
     "data": {
      "text/plain": [
       "<function __main__.graficar_interactivo(df, eje_x, eje_y, tamaño)>"
      ]
     },
     "execution_count": 3,
     "metadata": {},
     "output_type": "execute_result"
    }
   ],
   "source": [
    "import pandas as pd\n",
    "import plotly.express as px\n",
    "import ipywidgets as widgets\n",
    "from ipywidgets import interact\n",
    "\n",
    "def graficar_interactivo(df, eje_x, eje_y, tamaño):\n",
    "    df_limpio = df.dropna(subset=[tamaño])\n",
    "    \n",
    "    fig = px.scatter(df_limpio, x=eje_x, y=eje_y, size=tamaño,\n",
    "                     title=f\"Gráfico de dispersión: {eje_x} vs {eje_y} (Tamaño: {tamaño})\",\n",
    "                     labels={eje_x: eje_x, eje_y: eje_y, tamaño: tamaño})\n",
    "    \n",
    "    fig.show()\n",
    "\n",
    "eje_x_widget = widgets.Dropdown(\n",
    "    options=df_final.columns.tolist(),\n",
    "    value=df_final.columns[0],\n",
    "    description='Eje X:',\n",
    ")\n",
    "\n",
    "eje_y_widget = widgets.Dropdown(\n",
    "    options=df_final.columns.tolist(),\n",
    "    value=df_final.columns[1],\n",
    "    description='Eje Y:',\n",
    ")\n",
    "\n",
    "tamaño_widget = widgets.Dropdown(\n",
    "    options=[col for col in df_final.columns if pd.api.types.is_numeric_dtype(df_final[col])],\n",
    "    value=df_final.select_dtypes(include=['number']).columns[0],\n",
    "    description='Tamaño:',\n",
    ")\n",
    "\n",
    "interact(graficar_interactivo, df=widgets.fixed(df_final), eje_x=eje_x_widget, eje_y=eje_y_widget, tamaño=tamaño_widget)"
   ]
  },
  {
   "cell_type": "markdown",
   "id": "20310b9c",
   "metadata": {},
   "source": [
    "# Here i can select some parameters and know what systems have null values (NaN's)"
   ]
  },
  {
   "cell_type": "code",
   "execution_count": null,
   "id": "e8de3183",
   "metadata": {},
   "outputs": [],
   "source": [
    "# import pandas as pd\n",
    "# import ipywidgets as widgets\n",
    "# from IPython.display import display\n",
    "\n",
    "\n",
    "# output = widgets.Output()\n",
    "\n",
    "# def filtrar_nulos(columnas_seleccionadas):\n",
    "#     with output:\n",
    "#         output.clear_output()\n",
    "        \n",
    "#         if len(columnas_seleccionadas) > len(df_final.columns):\n",
    "#             print(\"Selecciona un máximo de 6 columnas.\")\n",
    "#             return\n",
    "#         filtro_nulos = df_final[columnas_seleccionadas].isnull().any(axis=1)\n",
    "#         nombres_con_nulos = df_final.loc[filtro_nulos, 'Nombre']\n",
    "#         display(nombres_con_nulos)\n",
    "\n",
    "# columnas = df_final.columns.tolist()\n",
    "# checkboxes = [widgets.Checkbox(value=False, description=col) for col in columnas if col != 'Nombre']\n",
    "\n",
    "# boton = widgets.Button(description=\"Show systems\")\n",
    "\n",
    "# def on_button_click(b):\n",
    "#     columnas_seleccionadas = [col.description for col in checkboxes if col.value]\n",
    "#     filtrar_nulos(columnas_seleccionadas)\n",
    "\n",
    "# boton.on_click(on_button_click)\n",
    "\n",
    "# display(widgets.VBox(checkboxes + [boton]))\n",
    "# display(output)"
   ]
  },
  {
   "cell_type": "markdown",
   "id": "debf4b75",
   "metadata": {},
   "source": [
    "# Here I make the correlation matrix, positive/negative dendograms and also venn diagram for the selected class of HMXB's and parameters from Neumann and Fortin Catalog"
   ]
  },
  {
   "cell_type": "code",
   "execution_count": 10,
   "id": "91ec2f31",
   "metadata": {
    "scrolled": false
   },
   "outputs": [
    {
     "data": {
      "application/vnd.jupyter.widget-view+json": {
       "model_id": "e9d887fe5468403d8a567a24b6ffa610",
       "version_major": 2,
       "version_minor": 0
      },
      "text/plain": [
       "interactive(children=(SelectMultiple(description='Classes:', index=(0, 1, 2, 3, 4, 5, 6, 7, 8, 9, 10, 11, 12, …"
      ]
     },
     "metadata": {},
     "output_type": "display_data"
    },
    {
     "data": {
      "text/plain": [
       "<function __main__.correlation_matrix_all(selected_classes, selected_columns)>"
      ]
     },
     "execution_count": 10,
     "metadata": {},
     "output_type": "execute_result"
    }
   ],
   "source": [
    "# Asegúrate de definir unique_classes antes de usarla\n",
    "unique_classes = df_final[class_column].unique().tolist()\n",
    "\n",
    "# Filtrar valores no nulos en unique_classes\n",
    "unique_classes = [x for x in unique_classes if pd.notna(x)]\n",
    "\n",
    "# Filtrar columnas numéricas\n",
    "numeric_columns = df_final.select_dtypes(include=[np.number]).columns.tolist()\n",
    "numeric_columns = [col for col in numeric_columns if pd.notnull(col)]\n",
    "\n",
    "# Interactuar con el usuario\n",
    "interact(\n",
    "    correlation_matrix_all,\n",
    "    selected_classes=widgets.SelectMultiple(\n",
    "        options=unique_classes,\n",
    "        value=unique_classes,\n",
    "        description='Classes:',\n",
    "        disabled=False\n",
    "    ),\n",
    "    selected_columns=widgets.SelectMultiple(\n",
    "        options=numeric_columns,\n",
    "        value=numeric_columns[:8],\n",
    "        description='Parameters:',\n",
    "        disabled=False\n",
    "    )\n",
    ")\n"
   ]
  },
  {
   "cell_type": "markdown",
   "id": "1dff6609",
   "metadata": {},
   "source": [
    "# Here I request all systems where there are missing values in one (or more) column, except in the other ones."
   ]
  },
  {
   "cell_type": "code",
   "execution_count": 11,
   "id": "cb718a8e",
   "metadata": {
    "scrolled": false
   },
   "outputs": [
    {
     "data": {
      "application/vnd.jupyter.widget-view+json": {
       "model_id": "add7e7868ea5426db475f6d7010bb053",
       "version_major": 2,
       "version_minor": 0
      },
      "text/plain": [
       "interactive(children=(SelectMultiple(description='Classes:', index=(0, 1, 2, 3, 4, 5, 6, 7, 8, 9, 10, 11, 12, …"
      ]
     },
     "metadata": {},
     "output_type": "display_data"
    },
    {
     "data": {
      "text/plain": [
       "<function __main__.correlation_matrix_all(selected_classes, selected_columns_nan, selected_columns_non_nan)>"
      ]
     },
     "execution_count": 11,
     "metadata": {},
     "output_type": "execute_result"
    }
   ],
   "source": [
    "import pandas as pd\n",
    "import numpy as np\n",
    "from ipywidgets import interact, widgets\n",
    "\n",
    "class_column = 'Class'\n",
    "\n",
    "def correlation_matrix_all(selected_classes, selected_columns_nan, selected_columns_non_nan):\n",
    "    if len(selected_columns_nan) == 0 and len(selected_columns_non_nan) == 0:\n",
    "        print(\"Por favor selecciona al menos una columna con valores nulos o valores conocidos.\")\n",
    "        return\n",
    "\n",
    "    if len(selected_classes) == 0:\n",
    "        print(\"Por favor selecciona al menos una clase.\")\n",
    "        return\n",
    "    \n",
    "    numeric_columns = df_final.select_dtypes(include=[np.number]).columns.tolist()\n",
    "    selected_columns_nan = list(selected_columns_nan)\n",
    "    selected_columns_non_nan = list(selected_columns_non_nan)\n",
    "    \n",
    "    selected_columns_nan = [col for col in selected_columns_nan if col in numeric_columns]\n",
    "    selected_columns_non_nan = [col for col in selected_columns_non_nan if col in numeric_columns]\n",
    "    \n",
    "    if len(selected_columns_nan) > 0 or len(selected_columns_non_nan) > 0:\n",
    "        filtered_df_final = df_final[df_final[class_column].isin(selected_classes)][selected_columns_nan + selected_columns_non_nan + ['Nombre']]\n",
    "        \n",
    "        missing_data = filtered_df_final[filtered_df_final[selected_columns_nan].isnull().all(axis=1)]\n",
    "\n",
    "        complete_data = filtered_df_final[filtered_df_final[selected_columns_non_nan].notnull().all(axis=1)]\n",
    "\n",
    "        intersection_data = pd.merge(missing_data, complete_data, how='inner', on='Nombre', suffixes=('_nan', '_non_nan'))\n",
    "\n",
    "        intersection_data.columns = [col.replace('_nan', '').replace('_non_nan', '') for col in intersection_data.columns]\n",
    "        \n",
    "        if intersection_data.empty:\n",
    "            print(\"No hay sistemas que cumplan ambas condiciones (valores nulos en algunas columnas y completos en otras).\")\n",
    "        else:\n",
    "            print(\"Sistemas que tienen valores nulos en las columnas seleccionadas y valores completos en las otras columnas:\")\n",
    "            print(intersection_data[['Nombre'] + selected_columns_nan + selected_columns_non_nan])\n",
    "        \n",
    "    else:\n",
    "        print(\"Por favor selecciona al menos una columna con valores nulos o valores conocidos.\")\n",
    "\n",
    "unique_classes = [x for x in unique_classes if pd.notna(x)]\n",
    "numeric_columns = [col for col in numeric_columns if pd.notnull(col)]\n",
    "\n",
    "interact(\n",
    "    correlation_matrix_all,\n",
    "    selected_classes=widgets.SelectMultiple(\n",
    "        options=unique_classes,\n",
    "        value=unique_classes,\n",
    "        description='Classes:',\n",
    "        disabled=False\n",
    "    ),\n",
    "    selected_columns_nan=widgets.SelectMultiple(\n",
    "        options=numeric_columns,\n",
    "        value=[],\n",
    "        description='NaNs:',\n",
    "        disabled=False\n",
    "    ),\n",
    "    selected_columns_non_nan=widgets.SelectMultiple(\n",
    "        options=numeric_columns,\n",
    "        description='no NaNs:',\n",
    "        disabled=False\n",
    "    )\n",
    ")\n"
   ]
  },
  {
   "cell_type": "markdown",
   "id": "240595f5",
   "metadata": {},
   "source": [
    "# Now I make the histogram for the distance in the Distance Column of Fortin and the BAT/Swift Flux in the Actualized Neuman catalog."
   ]
  },
  {
   "cell_type": "code",
   "execution_count": 16,
   "id": "74982754",
   "metadata": {},
   "outputs": [
    {
     "data": {
      "text/html": [
       "<div>\n",
       "<style scoped>\n",
       "    .dataframe tbody tr th:only-of-type {\n",
       "        vertical-align: middle;\n",
       "    }\n",
       "\n",
       "    .dataframe tbody tr th {\n",
       "        vertical-align: top;\n",
       "    }\n",
       "\n",
       "    .dataframe thead th {\n",
       "        text-align: right;\n",
       "    }\n",
       "</style>\n",
       "<table border=\"1\" class=\"dataframe\">\n",
       "  <thead>\n",
       "    <tr style=\"text-align: right;\">\n",
       "      <th></th>\n",
       "      <th>Name</th>\n",
       "      <th>RAdeg</th>\n",
       "      <th>DEdeg</th>\n",
       "      <th>PosErr</th>\n",
       "      <th>Coord_Ref</th>\n",
       "      <th>ID_Flag</th>\n",
       "      <th>GLON</th>\n",
       "      <th>GLAT</th>\n",
       "      <th>Xray_Type</th>\n",
       "      <th>Porb</th>\n",
       "      <th>...</th>\n",
       "      <th>Comments</th>\n",
       "      <th>_2MASS_ID</th>\n",
       "      <th>CatWISE_ID</th>\n",
       "      <th>ROSAT_ID</th>\n",
       "      <th>XMM_ID</th>\n",
       "      <th>Chandra_ID</th>\n",
       "      <th>XRT_ID</th>\n",
       "      <th>BAT_ID</th>\n",
       "      <th>INTEGRAL_ID</th>\n",
       "      <th>mean_BAT_flux</th>\n",
       "    </tr>\n",
       "  </thead>\n",
       "  <tbody>\n",
       "    <tr>\n",
       "      <th>0</th>\n",
       "      <td>IGR J00370+6122</td>\n",
       "      <td>92901325802</td>\n",
       "      <td>6.136013e+12</td>\n",
       "      <td>1.290736e+11</td>\n",
       "      <td>2023A&amp;A...674A...1G</td>\n",
       "      <td>0.0</td>\n",
       "      <td>12122142246530700</td>\n",
       "      <td>-1.464188e+16</td>\n",
       "      <td>SG</td>\n",
       "      <td>15.67</td>\n",
       "      <td>...</td>\n",
       "      <td>NaN</td>\n",
       "      <td>00370963+6121363</td>\n",
       "      <td>J003709.63+612136.4</td>\n",
       "      <td>2RXS J003710.1+612122</td>\n",
       "      <td>4XMM J003709.8+612136</td>\n",
       "      <td>NaN</td>\n",
       "      <td>2SXPS J003709.6+612135</td>\n",
       "      <td>SWIFT J0037.2+6123</td>\n",
       "      <td>IGR J00370+6122</td>\n",
       "      <td>1.842000e+16</td>\n",
       "    </tr>\n",
       "    <tr>\n",
       "      <th>1</th>\n",
       "      <td>gam Cas</td>\n",
       "      <td>1417745099821</td>\n",
       "      <td>6.071672e+12</td>\n",
       "      <td>3.013292e-03</td>\n",
       "      <td>2023A&amp;A...674A...1G</td>\n",
       "      <td>0.0</td>\n",
       "      <td>12357699287978200</td>\n",
       "      <td>-2.148422e+16</td>\n",
       "      <td>BE,Gcas,RS</td>\n",
       "      <td>203.59</td>\n",
       "      <td>...</td>\n",
       "      <td>NaN</td>\n",
       "      <td>00564251+6043002</td>\n",
       "      <td>NaN</td>\n",
       "      <td>2RXS J005642.4+604256</td>\n",
       "      <td>4XMM J005642.4+604259</td>\n",
       "      <td>NaN</td>\n",
       "      <td>NaN</td>\n",
       "      <td>SWIFT J0056.7+6043</td>\n",
       "      <td>NaN</td>\n",
       "      <td>8.344000e+01</td>\n",
       "    </tr>\n",
       "    <tr>\n",
       "      <th>2</th>\n",
       "      <td>TYC 3681-695-1</td>\n",
       "      <td>1899604069884</td>\n",
       "      <td>5.915394e+12</td>\n",
       "      <td>1.687720e+11</td>\n",
       "      <td>2023A&amp;A...674A...1G</td>\n",
       "      <td>0.0</td>\n",
       "      <td>12608001405133000</td>\n",
       "      <td>-3.567683e+16</td>\n",
       "      <td>Gcas</td>\n",
       "      <td>NaN</td>\n",
       "      <td>...</td>\n",
       "      <td>NaN</td>\n",
       "      <td>01155905+5909141</td>\n",
       "      <td>J011559.04+590914.1</td>\n",
       "      <td>NaN</td>\n",
       "      <td>4XMM J011558.9+590913</td>\n",
       "      <td>NaN</td>\n",
       "      <td>NaN</td>\n",
       "      <td>NaN</td>\n",
       "      <td>NaN</td>\n",
       "      <td>NaN</td>\n",
       "    </tr>\n",
       "    <tr>\n",
       "      <th>3</th>\n",
       "      <td>2S 0114+650</td>\n",
       "      <td>1951122704686</td>\n",
       "      <td>6.529162e+12</td>\n",
       "      <td>1.163873e+11</td>\n",
       "      <td>2023A&amp;A...674A...1G</td>\n",
       "      <td>0.0</td>\n",
       "      <td>12570998154557300</td>\n",
       "      <td>2.563491e+16</td>\n",
       "      <td>CL,SG,XP</td>\n",
       "      <td>11.60</td>\n",
       "      <td>...</td>\n",
       "      <td>Superorbital period: 30.76 d (2013ApJ...778......</td>\n",
       "      <td>01180266+6517298</td>\n",
       "      <td>J011802.68+651729.8</td>\n",
       "      <td>NaN</td>\n",
       "      <td>4XMM J011802.6+651731</td>\n",
       "      <td>NaN</td>\n",
       "      <td>2SXPS J011802.8+651726</td>\n",
       "      <td>SWIFT J0117.8+6516</td>\n",
       "      <td>NaN</td>\n",
       "      <td>1.554000e+02</td>\n",
       "    </tr>\n",
       "    <tr>\n",
       "      <th>4</th>\n",
       "      <td>4U 0115+63</td>\n",
       "      <td>1963319348306</td>\n",
       "      <td>6.374252e+12</td>\n",
       "      <td>1.628558e+11</td>\n",
       "      <td>2023A&amp;A...674A...1G</td>\n",
       "      <td>0.0</td>\n",
       "      <td>12592352060725100</td>\n",
       "      <td>1.028267e+16</td>\n",
       "      <td>BE,CL,HT,QPO,XB,XP,XT</td>\n",
       "      <td>24.30</td>\n",
       "      <td>...</td>\n",
       "      <td>NaN</td>\n",
       "      <td>01183196+6344330</td>\n",
       "      <td>J011831.96+634433.0</td>\n",
       "      <td>NaN</td>\n",
       "      <td>4XMM J011831.9+634433</td>\n",
       "      <td>NaN</td>\n",
       "      <td>2SXPS J011831.6+634431</td>\n",
       "      <td>SWIFT J0118.5+6344</td>\n",
       "      <td>NaN</td>\n",
       "      <td>6.626000e+01</td>\n",
       "    </tr>\n",
       "  </tbody>\n",
       "</table>\n",
       "<p>5 rows × 67 columns</p>\n",
       "</div>"
      ],
      "text/plain": [
       "              Name          RAdeg         DEdeg        PosErr  \\\n",
       "0  IGR J00370+6122    92901325802  6.136013e+12  1.290736e+11   \n",
       "1          gam Cas  1417745099821  6.071672e+12  3.013292e-03   \n",
       "2   TYC 3681-695-1  1899604069884  5.915394e+12  1.687720e+11   \n",
       "3      2S 0114+650  1951122704686  6.529162e+12  1.163873e+11   \n",
       "4       4U 0115+63  1963319348306  6.374252e+12  1.628558e+11   \n",
       "\n",
       "             Coord_Ref  ID_Flag               GLON          GLAT  \\\n",
       "0  2023A&A...674A...1G      0.0  12122142246530700 -1.464188e+16   \n",
       "1  2023A&A...674A...1G      0.0  12357699287978200 -2.148422e+16   \n",
       "2  2023A&A...674A...1G      0.0  12608001405133000 -3.567683e+16   \n",
       "3  2023A&A...674A...1G      0.0  12570998154557300  2.563491e+16   \n",
       "4  2023A&A...674A...1G      0.0  12592352060725100  1.028267e+16   \n",
       "\n",
       "               Xray_Type    Porb  ...  \\\n",
       "0                     SG   15.67  ...   \n",
       "1             BE,Gcas,RS  203.59  ...   \n",
       "2                   Gcas     NaN  ...   \n",
       "3               CL,SG,XP   11.60  ...   \n",
       "4  BE,CL,HT,QPO,XB,XP,XT   24.30  ...   \n",
       "\n",
       "                                            Comments         _2MASS_ID  \\\n",
       "0                                                NaN  00370963+6121363   \n",
       "1                                                NaN  00564251+6043002   \n",
       "2                                                NaN  01155905+5909141   \n",
       "3  Superorbital period: 30.76 d (2013ApJ...778......  01180266+6517298   \n",
       "4                                                NaN  01183196+6344330   \n",
       "\n",
       "            CatWISE_ID               ROSAT_ID                 XMM_ID  \\\n",
       "0  J003709.63+612136.4  2RXS J003710.1+612122  4XMM J003709.8+612136   \n",
       "1                  NaN  2RXS J005642.4+604256  4XMM J005642.4+604259   \n",
       "2  J011559.04+590914.1                    NaN  4XMM J011558.9+590913   \n",
       "3  J011802.68+651729.8                    NaN  4XMM J011802.6+651731   \n",
       "4  J011831.96+634433.0                    NaN  4XMM J011831.9+634433   \n",
       "\n",
       "   Chandra_ID                  XRT_ID              BAT_ID      INTEGRAL_ID  \\\n",
       "0         NaN  2SXPS J003709.6+612135  SWIFT J0037.2+6123  IGR J00370+6122   \n",
       "1         NaN                     NaN  SWIFT J0056.7+6043              NaN   \n",
       "2         NaN                     NaN                 NaN              NaN   \n",
       "3         NaN  2SXPS J011802.8+651726  SWIFT J0117.8+6516              NaN   \n",
       "4         NaN  2SXPS J011831.6+634431  SWIFT J0118.5+6344              NaN   \n",
       "\n",
       "   mean_BAT_flux  \n",
       "0   1.842000e+16  \n",
       "1   8.344000e+01  \n",
       "2            NaN  \n",
       "3   1.554000e+02  \n",
       "4   6.626000e+01  \n",
       "\n",
       "[5 rows x 67 columns]"
      ]
     },
     "execution_count": 16,
     "metadata": {},
     "output_type": "execute_result"
    }
   ],
   "source": [
    "cat_neuman_2['mean_BAT_flux'] = (cat_neuman_2['BAT_max_flux'] + cat_neuman_2['BAT_min_flux']) / 2\n",
    "\n",
    "cat_neuman_2.head()"
   ]
  },
  {
   "cell_type": "code",
   "execution_count": 55,
   "id": "e138411a",
   "metadata": {},
   "outputs": [
    {
     "data": {
      "image/png": "[encoded data removed]",
      "text/plain": [
       "<Figure size 800x600 with 1 Axes>"
      ]
     },
     "metadata": {},
     "output_type": "display_data"
    }
   ],
   "source": [
    "\n",
    "import matplotlib.pyplot as plt\n",
    "import numpy as np\n",
    "\n",
    "# Filtrar nombres comunes\n",
    "common_names = cat_neuman_2['Name'].isin(v2023_09_Fortin['Main_ID'])\n",
    "cat_neuman_2_common = cat_neuman_2[common_names]\n",
    "fortin_common = v2023_09_Fortin[common_names]\n",
    "\n",
    "# Unir datos\n",
    "common_data = pd.merge(cat_neuman_2_common[['Name', 'mean_BAT_flux']], \n",
    "                       fortin_common[['Main_ID', 'Distance']], \n",
    "                       left_on='Name', right_on='Main_ID')\n",
    "\n",
    "# Convertir distancia de parsecs a centímetros\n",
    "parsec_to_cm = 3.086e18\n",
    "common_data['Distance_cm'] = common_data['Distance'] * parsec_to_cm\n",
    "\n",
    "# Calcular luminosidad usando la distancia en cm\n",
    "pi = np.pi\n",
    "common_data['Luminosity'] = 4 * pi * common_data['mean_BAT_flux'] * common_data['Distance_cm']**2\n",
    "\n",
    "# Graficar histograma de la luminosidad\n",
    "plt.figure(figsize=(8, 6))\n",
    "plt.hist(common_data['Luminosity'], bins=10, color='blue', alpha=0.7)\n",
    "plt.xscale('log')  # Escala logarítmica en el eje x\n",
    "plt.yscale('log')  # Escala logarítmica en el eje y\n",
    "plt.title('Histogram of Luminosity (Distance in Parsecs)')\n",
    "plt.xlabel('Luminosity [erg/s] for BAT/Swift Fluxes')\n",
    "plt.ylabel('Frequency')\n",
    "plt.xlim(10e40,10e60)\n",
    "plt.grid(True, which=\"both\", linestyle=\"--\", alpha=0.7)\n",
    "plt.show()\n"
   ]
  },
  {
   "cell_type": "code",
   "execution_count": null,
   "id": "129400ac",
   "metadata": {},
   "outputs": [],
   "source": [
    "'B0 IIIne' in cat_neuman['SpType'].unique()"
   ]
  }
 ],
 "metadata": {
  "kernelspec": {
   "display_name": "Python 3 (ipykernel)",
   "language": "python",
   "name": "python3"
  },
  "language_info": {
   "codemirror_mode": {
    "name": "ipython",
    "version": 3
   },
   "file_extension": ".py",
   "mimetype": "text/x-python",
   "name": "python",
   "nbconvert_exporter": "python",
   "pygments_lexer": "ipython3",
   "version": "3.8.16"
  }
 },
 "nbformat": 4,
 "nbformat_minor": 5
}
